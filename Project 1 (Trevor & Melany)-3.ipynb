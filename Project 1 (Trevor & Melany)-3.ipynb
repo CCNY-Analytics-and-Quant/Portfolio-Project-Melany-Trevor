{
 "cells": [
  {
   "cell_type": "code",
   "execution_count": 1204,
   "id": "a076ce66-40dd-4e02-a440-f1f8fef9051f",
   "metadata": {},
   "outputs": [],
   "source": [
    "import pandas as pd\n",
    "import datetime as dt\n",
    "import yfinance as yf\n",
    "import numpy as np\n",
    "import seaborn as sns\n",
    "import matplotlib.pyplot as plt\n",
    "\n",
    "tickers = ['AAPL', 'TSLA', 'NFLX', 'GM', 'AMZN', 'GOOG', 'TGT']\n",
    "etf = ['SPY', 'IWM', 'DIA']"
   ]
  },
  {
   "cell_type": "code",
   "execution_count": 1205,
   "id": "89b979dd-9777-4037-87e6-54b41f608310",
   "metadata": {},
   "outputs": [
    {
     "name": "stdout",
     "output_type": "stream",
     "text": [
      "[*********************100%***********************]  10 of 10 completed\n"
     ]
    }
   ],
   "source": [
    "data = yf.download(tickers + etf, period = '10y') ['Adj Close']"
   ]
  },
  {
   "cell_type": "code",
   "execution_count": 1206,
   "id": "00c34328-348b-4b3d-944a-1a045343eaad",
   "metadata": {},
   "outputs": [],
   "source": [
    "df['portfolio'] = df.mean(axis=1)\n",
    "returns= df.pct_change()"
   ]
  },
  {
   "cell_type": "code",
   "execution_count": 1207,
   "id": "3a837426-fd0d-4643-89fa-ab352292c7b0",
   "metadata": {},
   "outputs": [],
   "source": [
    "# Part 1: Create Table showing constituent (stocks) risk analysis in the equal - weight portfolio analysis as of the current date"
   ]
  },
  {
   "cell_type": "code",
   "execution_count": 1208,
   "id": "e3ced475-ccbb-44b6-a39f-d4f09fe8e2fe",
   "metadata": {},
   "outputs": [],
   "source": [
    "# Column 1 - Ticker\n",
    "output = pd.DataFrame(index=tickers)"
   ]
  },
  {
   "cell_type": "code",
   "execution_count": 1209,
   "id": "1954bb13-9e80-4e24-a114-4d9dc5e3799c",
   "metadata": {},
   "outputs": [],
   "source": [
    "# Column 2 - Portfolio Weight (equally weighted)\n",
    "output['Portfolio Weight'] = 100 / len(output.index)"
   ]
  },
  {
   "cell_type": "code",
   "execution_count": 1210,
   "id": "5851c013-1fc5-4030-9bc7-74e4bb481a3f",
   "metadata": {},
   "outputs": [],
   "source": [
    "# Column 3 - Annualized Volatility (using trailing 3-months)\n",
    "output['Annual Volatility'] = data[-63:].std() * np.sqrt(4)"
   ]
  },
  {
   "cell_type": "code",
   "execution_count": 1211,
   "id": "730ae5e2-c389-4388-830e-be94956cc444",
   "metadata": {},
   "outputs": [],
   "source": [
    "# Column 4 - Beta against SPY (using trailing 12-months)\n",
    "# Citation - https://www.learnpythonwithrune.org/calculate-the-market-sp-500-beta-with-python-for-any-stock/#:~:text=Step%203%3A%20Calculate%20the%20BETA\n",
    "log_returns = np.log(data/data.shift())\n",
    "cov = log_returns.cov()\n",
    "var = log_returns['SPY'].var()\n",
    "\n",
    "cov.loc[tickers, 'SPY']/var\n",
    "output['Beta against SPY'] = cov.loc[tickers, 'SPY']/var"
   ]
  },
  {
   "cell_type": "code",
   "execution_count": 1212,
   "id": "b94769ba-d563-4ad1-9398-11747643544d",
   "metadata": {},
   "outputs": [],
   "source": [
    "# Column 5 - Beta against IWM (using trailing 12-months)\n",
    "log_returns = np.log(data/data.shift())\n",
    "cov = log_returns.cov()\n",
    "var = log_returns['IWM'].var()\n",
    "\n",
    "cov.loc[tickers, 'IWM']/var\n",
    "output['Beta against IWM'] = cov.loc[tickers, 'IWM']/var"
   ]
  },
  {
   "cell_type": "code",
   "execution_count": 1213,
   "id": "7f72dbc0-59f9-4f97-a44a-813650c9247c",
   "metadata": {},
   "outputs": [],
   "source": [
    "# Column 6 - Beta against DIA (using trailing 12-months)\n",
    "log_returns = np.log(data/data.shift())\n",
    "cov = log_returns.cov()\n",
    "var = log_returns['DIA'].var()\n",
    "\n",
    "cov.loc[tickers, 'DIA']/var\n",
    "output['Beta against DIA'] = cov.loc[tickers, 'DIA']/var"
   ]
  },
  {
   "cell_type": "code",
   "execution_count": 1214,
   "id": "a60347a5-f5bf-4f3c-9519-c9fbc8409d10",
   "metadata": {},
   "outputs": [],
   "source": [
    "# Column 7 & 8 - Average Weekly Drawdown (52-week Low minus 52-week High) / 52-week High)\n",
    "drawdown_5roll= log_returns[-252:].rolling(5).max()- log_returns[-252:].rolling(5).min()\n",
    "output['avg_drawdown']=drawdown_5roll.mean()\n",
    "output['max_drawdown']= drawdown_5roll.max()"
   ]
  },
  {
   "cell_type": "code",
   "execution_count": 1215,
   "id": "d7364b8e-f15b-4cd8-b448-fc192b4f16a4",
   "metadata": {},
   "outputs": [
    {
     "data": {
      "text/plain": [
       "array([[-0.02792275, -0.06089693, -0.04335152, -0.02500138, -0.02612266,\n",
       "        -0.01848547, -0.0188149 ],\n",
       "       [-0.02188713, -0.05149634, -0.04595543, -0.03132294, -0.04071954,\n",
       "        -0.02689035, -0.02134421],\n",
       "       [-0.03284724, -0.04714096, -0.04432324, -0.03009838, -0.02685457,\n",
       "        -0.02721262, -0.02534116],\n",
       "       [-0.02611068, -0.04985475, -0.04676737, -0.03169043, -0.03262046,\n",
       "        -0.02370809, -0.02538165],\n",
       "       [-0.01583818, -0.04039983, -0.0269166 , -0.0244989 , -0.01844529,\n",
       "        -0.01655234, -0.03541304],\n",
       "       [-0.03477141, -0.06460606, -0.05249235, -0.03896051, -0.0386825 ,\n",
       "        -0.0336932 , -0.03314119],\n",
       "       [-0.02379441, -0.05551409, -0.0404262 , -0.02763956, -0.02454873,\n",
       "        -0.02517729, -0.02203225],\n",
       "       [-0.0410093 , -0.08177434, -0.04581665, -0.06786914, -0.03903093,\n",
       "        -0.03707439, -0.03403499],\n",
       "       [-0.0276489 , -0.05641565, -0.0341281 , -0.04345139, -0.03021957,\n",
       "        -0.02261339, -0.02541688],\n",
       "       [-0.04815714, -0.08936055, -0.08598689, -0.06210829, -0.06942472,\n",
       "        -0.05400611, -0.05652649],\n",
       "       [-0.02440729, -0.06166767, -0.04007753, -0.03793753, -0.05110414,\n",
       "        -0.05147415, -0.02958931]])"
      ]
     },
     "execution_count": 1215,
     "metadata": {},
     "output_type": "execute_result"
    }
   ],
   "source": [
    "# Column 7 & 8 - Average Weekly Drawdown (52-week Low minus 52-week High) / 52-week High)\n",
    "def Max_drawdown(df, window=5, draw_type = 'max') :\n",
    "    if draw_type =='avg' :\n",
    "        Roll_Max = df.rolling(window,min_periods=1) .mean()\n",
    "    else:\n",
    "        Roll_Max = df.rolling(window,min_periods=1) .max()\n",
    "        \n",
    "    Weekly_Drawdown= df/Roll_Max -1\n",
    "    Max_Weekly_Drawdown = Weekly_Drawdown.rolling(window, min_periods=1) .min()\n",
    "    \n",
    "    return Max_Weekly_Drawdown\n",
    "\n",
    "avg_drawdown = (Max_drawdown(data[tickers], draw_type = 'avg') .resample('Y') .mean()) .to_numpy()\n",
    "avg_drawdown\n",
    "\n",
    "max_drawdown = (Max_drawdown(data[tickers]).resample('Y') .mean()) .to_numpy()\n",
    "max_drawdown"
   ]
  },
  {
   "cell_type": "code",
   "execution_count": 1216,
   "id": "d9479482-be41-4b7f-b688-0a450ecbe203",
   "metadata": {},
   "outputs": [],
   "source": [
    "# Column 9 - Total Return (using trailing 10-years)\n",
    "output['10yr Return'] = data.pct_change(len(data) - 1)[-1:].T * 100"
   ]
  },
  {
   "cell_type": "code",
   "execution_count": 1217,
   "id": "ccb8b644-93dc-4094-903a-1b573592ed46",
   "metadata": {},
   "outputs": [
    {
     "ename": "ValueError",
     "evalue": "Wrong number of items passed 10, placement implies 1",
     "output_type": "error",
     "traceback": [
      "\u001b[0;31m---------------------------------------------------------------------------\u001b[0m",
      "\u001b[0;31mKeyError\u001b[0m                                  Traceback (most recent call last)",
      "\u001b[0;32m/opt/tljh/user/lib/python3.9/site-packages/pandas/core/indexes/base.py\u001b[0m in \u001b[0;36mget_loc\u001b[0;34m(self, key, method, tolerance)\u001b[0m\n\u001b[1;32m   3360\u001b[0m             \u001b[0;32mtry\u001b[0m\u001b[0;34m:\u001b[0m\u001b[0;34m\u001b[0m\u001b[0;34m\u001b[0m\u001b[0m\n\u001b[0;32m-> 3361\u001b[0;31m                 \u001b[0;32mreturn\u001b[0m \u001b[0mself\u001b[0m\u001b[0;34m.\u001b[0m\u001b[0m_engine\u001b[0m\u001b[0;34m.\u001b[0m\u001b[0mget_loc\u001b[0m\u001b[0;34m(\u001b[0m\u001b[0mcasted_key\u001b[0m\u001b[0;34m)\u001b[0m\u001b[0;34m\u001b[0m\u001b[0;34m\u001b[0m\u001b[0m\n\u001b[0m\u001b[1;32m   3362\u001b[0m             \u001b[0;32mexcept\u001b[0m \u001b[0mKeyError\u001b[0m \u001b[0;32mas\u001b[0m \u001b[0merr\u001b[0m\u001b[0;34m:\u001b[0m\u001b[0;34m\u001b[0m\u001b[0;34m\u001b[0m\u001b[0m\n",
      "\u001b[0;32m/opt/tljh/user/lib/python3.9/site-packages/pandas/_libs/index.pyx\u001b[0m in \u001b[0;36mpandas._libs.index.IndexEngine.get_loc\u001b[0;34m()\u001b[0m\n",
      "\u001b[0;32m/opt/tljh/user/lib/python3.9/site-packages/pandas/_libs/index.pyx\u001b[0m in \u001b[0;36mpandas._libs.index.IndexEngine.get_loc\u001b[0;34m()\u001b[0m\n",
      "\u001b[0;32mpandas/_libs/hashtable_class_helper.pxi\u001b[0m in \u001b[0;36mpandas._libs.hashtable.PyObjectHashTable.get_item\u001b[0;34m()\u001b[0m\n",
      "\u001b[0;32mpandas/_libs/hashtable_class_helper.pxi\u001b[0m in \u001b[0;36mpandas._libs.hashtable.PyObjectHashTable.get_item\u001b[0;34m()\u001b[0m\n",
      "\u001b[0;31mKeyError\u001b[0m: 'Ann 10yr Return'",
      "\nThe above exception was the direct cause of the following exception:\n",
      "\u001b[0;31mKeyError\u001b[0m                                  Traceback (most recent call last)",
      "\u001b[0;32m/opt/tljh/user/lib/python3.9/site-packages/pandas/core/frame.py\u001b[0m in \u001b[0;36m_set_item_mgr\u001b[0;34m(self, key, value)\u001b[0m\n\u001b[1;32m   3750\u001b[0m         \u001b[0;32mtry\u001b[0m\u001b[0;34m:\u001b[0m\u001b[0;34m\u001b[0m\u001b[0;34m\u001b[0m\u001b[0m\n\u001b[0;32m-> 3751\u001b[0;31m             \u001b[0mloc\u001b[0m \u001b[0;34m=\u001b[0m \u001b[0mself\u001b[0m\u001b[0;34m.\u001b[0m\u001b[0m_info_axis\u001b[0m\u001b[0;34m.\u001b[0m\u001b[0mget_loc\u001b[0m\u001b[0;34m(\u001b[0m\u001b[0mkey\u001b[0m\u001b[0;34m)\u001b[0m\u001b[0;34m\u001b[0m\u001b[0;34m\u001b[0m\u001b[0m\n\u001b[0m\u001b[1;32m   3752\u001b[0m         \u001b[0;32mexcept\u001b[0m \u001b[0mKeyError\u001b[0m\u001b[0;34m:\u001b[0m\u001b[0;34m\u001b[0m\u001b[0;34m\u001b[0m\u001b[0m\n",
      "\u001b[0;32m/opt/tljh/user/lib/python3.9/site-packages/pandas/core/indexes/base.py\u001b[0m in \u001b[0;36mget_loc\u001b[0;34m(self, key, method, tolerance)\u001b[0m\n\u001b[1;32m   3362\u001b[0m             \u001b[0;32mexcept\u001b[0m \u001b[0mKeyError\u001b[0m \u001b[0;32mas\u001b[0m \u001b[0merr\u001b[0m\u001b[0;34m:\u001b[0m\u001b[0;34m\u001b[0m\u001b[0;34m\u001b[0m\u001b[0m\n\u001b[0;32m-> 3363\u001b[0;31m                 \u001b[0;32mraise\u001b[0m \u001b[0mKeyError\u001b[0m\u001b[0;34m(\u001b[0m\u001b[0mkey\u001b[0m\u001b[0;34m)\u001b[0m \u001b[0;32mfrom\u001b[0m \u001b[0merr\u001b[0m\u001b[0;34m\u001b[0m\u001b[0;34m\u001b[0m\u001b[0m\n\u001b[0m\u001b[1;32m   3364\u001b[0m \u001b[0;34m\u001b[0m\u001b[0m\n",
      "\u001b[0;31mKeyError\u001b[0m: 'Ann 10yr Return'",
      "\nDuring handling of the above exception, another exception occurred:\n",
      "\u001b[0;31mValueError\u001b[0m                                Traceback (most recent call last)",
      "\u001b[0;32m/tmp/ipykernel_1517664/503169351.py\u001b[0m in \u001b[0;36m<module>\u001b[0;34m\u001b[0m\n\u001b[1;32m      1\u001b[0m \u001b[0;31m# Column 10 - Annualized Total Returns (Using trailing 10-years)\u001b[0m\u001b[0;34m\u001b[0m\u001b[0;34m\u001b[0m\u001b[0m\n\u001b[0;32m----> 2\u001b[0;31m \u001b[0moutput\u001b[0m\u001b[0;34m[\u001b[0m\u001b[0;34m'Ann 10yr Return'\u001b[0m\u001b[0;34m]\u001b[0m \u001b[0;34m=\u001b[0m \u001b[0mdf\u001b[0m\u001b[0;34m[\u001b[0m\u001b[0;34m'Adj Close'\u001b[0m\u001b[0;34m]\u001b[0m\u001b[0;34m.\u001b[0m\u001b[0mrolling\u001b[0m\u001b[0;34m(\u001b[0m\u001b[0mwindow\u001b[0m \u001b[0;34m=\u001b[0m \u001b[0;36m365\u001b[0m \u001b[0;34m*\u001b[0m \u001b[0;36m10\u001b[0m\u001b[0;34m)\u001b[0m\u001b[0;34m.\u001b[0m\u001b[0mmean\u001b[0m\u001b[0;34m(\u001b[0m\u001b[0;34m)\u001b[0m \u001b[0;34m**\u001b[0m \u001b[0;34m(\u001b[0m\u001b[0;36m1\u001b[0m \u001b[0;34m/\u001b[0m \u001b[0mnp\u001b[0m\u001b[0;34m.\u001b[0m\u001b[0msqrt\u001b[0m\u001b[0;34m(\u001b[0m\u001b[0;36m252\u001b[0m\u001b[0;34m)\u001b[0m\u001b[0;34m)\u001b[0m\u001b[0;34m\u001b[0m\u001b[0;34m\u001b[0m\u001b[0m\n\u001b[0m",
      "\u001b[0;32m/opt/tljh/user/lib/python3.9/site-packages/pandas/core/frame.py\u001b[0m in \u001b[0;36m__setitem__\u001b[0;34m(self, key, value)\u001b[0m\n\u001b[1;32m   3600\u001b[0m             \u001b[0mself\u001b[0m\u001b[0;34m.\u001b[0m\u001b[0m_setitem_array\u001b[0m\u001b[0;34m(\u001b[0m\u001b[0mkey\u001b[0m\u001b[0;34m,\u001b[0m \u001b[0mvalue\u001b[0m\u001b[0;34m)\u001b[0m\u001b[0;34m\u001b[0m\u001b[0;34m\u001b[0m\u001b[0m\n\u001b[1;32m   3601\u001b[0m         \u001b[0;32melif\u001b[0m \u001b[0misinstance\u001b[0m\u001b[0;34m(\u001b[0m\u001b[0mvalue\u001b[0m\u001b[0;34m,\u001b[0m \u001b[0mDataFrame\u001b[0m\u001b[0;34m)\u001b[0m\u001b[0;34m:\u001b[0m\u001b[0;34m\u001b[0m\u001b[0;34m\u001b[0m\u001b[0m\n\u001b[0;32m-> 3602\u001b[0;31m             \u001b[0mself\u001b[0m\u001b[0;34m.\u001b[0m\u001b[0m_set_item_frame_value\u001b[0m\u001b[0;34m(\u001b[0m\u001b[0mkey\u001b[0m\u001b[0;34m,\u001b[0m \u001b[0mvalue\u001b[0m\u001b[0;34m)\u001b[0m\u001b[0;34m\u001b[0m\u001b[0;34m\u001b[0m\u001b[0m\n\u001b[0m\u001b[1;32m   3603\u001b[0m         elif (\n\u001b[1;32m   3604\u001b[0m             \u001b[0mis_list_like\u001b[0m\u001b[0;34m(\u001b[0m\u001b[0mvalue\u001b[0m\u001b[0;34m)\u001b[0m\u001b[0;34m\u001b[0m\u001b[0;34m\u001b[0m\u001b[0m\n",
      "\u001b[0;32m/opt/tljh/user/lib/python3.9/site-packages/pandas/core/frame.py\u001b[0m in \u001b[0;36m_set_item_frame_value\u001b[0;34m(self, key, value)\u001b[0m\n\u001b[1;32m   3740\u001b[0m         \u001b[0;31m# now align rows\u001b[0m\u001b[0;34m\u001b[0m\u001b[0;34m\u001b[0m\u001b[0m\n\u001b[1;32m   3741\u001b[0m         \u001b[0marraylike\u001b[0m \u001b[0;34m=\u001b[0m \u001b[0m_reindex_for_setitem\u001b[0m\u001b[0;34m(\u001b[0m\u001b[0mvalue\u001b[0m\u001b[0;34m,\u001b[0m \u001b[0mself\u001b[0m\u001b[0;34m.\u001b[0m\u001b[0mindex\u001b[0m\u001b[0;34m)\u001b[0m\u001b[0;34m\u001b[0m\u001b[0;34m\u001b[0m\u001b[0m\n\u001b[0;32m-> 3742\u001b[0;31m         \u001b[0mself\u001b[0m\u001b[0;34m.\u001b[0m\u001b[0m_set_item_mgr\u001b[0m\u001b[0;34m(\u001b[0m\u001b[0mkey\u001b[0m\u001b[0;34m,\u001b[0m \u001b[0marraylike\u001b[0m\u001b[0;34m)\u001b[0m\u001b[0;34m\u001b[0m\u001b[0;34m\u001b[0m\u001b[0m\n\u001b[0m\u001b[1;32m   3743\u001b[0m \u001b[0;34m\u001b[0m\u001b[0m\n\u001b[1;32m   3744\u001b[0m     \u001b[0;32mdef\u001b[0m \u001b[0m_iset_item_mgr\u001b[0m\u001b[0;34m(\u001b[0m\u001b[0mself\u001b[0m\u001b[0;34m,\u001b[0m \u001b[0mloc\u001b[0m\u001b[0;34m:\u001b[0m \u001b[0mint\u001b[0m \u001b[0;34m|\u001b[0m \u001b[0mslice\u001b[0m \u001b[0;34m|\u001b[0m \u001b[0mnp\u001b[0m\u001b[0;34m.\u001b[0m\u001b[0mndarray\u001b[0m\u001b[0;34m,\u001b[0m \u001b[0mvalue\u001b[0m\u001b[0;34m)\u001b[0m \u001b[0;34m->\u001b[0m \u001b[0;32mNone\u001b[0m\u001b[0;34m:\u001b[0m\u001b[0;34m\u001b[0m\u001b[0;34m\u001b[0m\u001b[0m\n",
      "\u001b[0;32m/opt/tljh/user/lib/python3.9/site-packages/pandas/core/frame.py\u001b[0m in \u001b[0;36m_set_item_mgr\u001b[0;34m(self, key, value)\u001b[0m\n\u001b[1;32m   3752\u001b[0m         \u001b[0;32mexcept\u001b[0m \u001b[0mKeyError\u001b[0m\u001b[0;34m:\u001b[0m\u001b[0;34m\u001b[0m\u001b[0;34m\u001b[0m\u001b[0m\n\u001b[1;32m   3753\u001b[0m             \u001b[0;31m# This item wasn't present, just insert at end\u001b[0m\u001b[0;34m\u001b[0m\u001b[0;34m\u001b[0m\u001b[0m\n\u001b[0;32m-> 3754\u001b[0;31m             \u001b[0mself\u001b[0m\u001b[0;34m.\u001b[0m\u001b[0m_mgr\u001b[0m\u001b[0;34m.\u001b[0m\u001b[0minsert\u001b[0m\u001b[0;34m(\u001b[0m\u001b[0mlen\u001b[0m\u001b[0;34m(\u001b[0m\u001b[0mself\u001b[0m\u001b[0;34m.\u001b[0m\u001b[0m_info_axis\u001b[0m\u001b[0;34m)\u001b[0m\u001b[0;34m,\u001b[0m \u001b[0mkey\u001b[0m\u001b[0;34m,\u001b[0m \u001b[0mvalue\u001b[0m\u001b[0;34m)\u001b[0m\u001b[0;34m\u001b[0m\u001b[0;34m\u001b[0m\u001b[0m\n\u001b[0m\u001b[1;32m   3755\u001b[0m         \u001b[0;32melse\u001b[0m\u001b[0;34m:\u001b[0m\u001b[0;34m\u001b[0m\u001b[0;34m\u001b[0m\u001b[0m\n\u001b[1;32m   3756\u001b[0m             \u001b[0mself\u001b[0m\u001b[0;34m.\u001b[0m\u001b[0m_iset_item_mgr\u001b[0m\u001b[0;34m(\u001b[0m\u001b[0mloc\u001b[0m\u001b[0;34m,\u001b[0m \u001b[0mvalue\u001b[0m\u001b[0;34m)\u001b[0m\u001b[0;34m\u001b[0m\u001b[0;34m\u001b[0m\u001b[0m\n",
      "\u001b[0;32m/opt/tljh/user/lib/python3.9/site-packages/pandas/core/internals/managers.py\u001b[0m in \u001b[0;36minsert\u001b[0;34m(self, loc, item, value)\u001b[0m\n\u001b[1;32m   1160\u001b[0m             \u001b[0mvalue\u001b[0m \u001b[0;34m=\u001b[0m \u001b[0mensure_block_shape\u001b[0m\u001b[0;34m(\u001b[0m\u001b[0mvalue\u001b[0m\u001b[0;34m,\u001b[0m \u001b[0mndim\u001b[0m\u001b[0;34m=\u001b[0m\u001b[0mself\u001b[0m\u001b[0;34m.\u001b[0m\u001b[0mndim\u001b[0m\u001b[0;34m)\u001b[0m\u001b[0;34m\u001b[0m\u001b[0;34m\u001b[0m\u001b[0m\n\u001b[1;32m   1161\u001b[0m \u001b[0;34m\u001b[0m\u001b[0m\n\u001b[0;32m-> 1162\u001b[0;31m         \u001b[0mblock\u001b[0m \u001b[0;34m=\u001b[0m \u001b[0mnew_block\u001b[0m\u001b[0;34m(\u001b[0m\u001b[0mvalues\u001b[0m\u001b[0;34m=\u001b[0m\u001b[0mvalue\u001b[0m\u001b[0;34m,\u001b[0m \u001b[0mndim\u001b[0m\u001b[0;34m=\u001b[0m\u001b[0mself\u001b[0m\u001b[0;34m.\u001b[0m\u001b[0mndim\u001b[0m\u001b[0;34m,\u001b[0m \u001b[0mplacement\u001b[0m\u001b[0;34m=\u001b[0m\u001b[0mslice\u001b[0m\u001b[0;34m(\u001b[0m\u001b[0mloc\u001b[0m\u001b[0;34m,\u001b[0m \u001b[0mloc\u001b[0m \u001b[0;34m+\u001b[0m \u001b[0;36m1\u001b[0m\u001b[0;34m)\u001b[0m\u001b[0;34m)\u001b[0m\u001b[0;34m\u001b[0m\u001b[0;34m\u001b[0m\u001b[0m\n\u001b[0m\u001b[1;32m   1163\u001b[0m \u001b[0;34m\u001b[0m\u001b[0m\n\u001b[1;32m   1164\u001b[0m         \u001b[0;32mfor\u001b[0m \u001b[0mblkno\u001b[0m\u001b[0;34m,\u001b[0m \u001b[0mcount\u001b[0m \u001b[0;32min\u001b[0m \u001b[0m_fast_count_smallints\u001b[0m\u001b[0;34m(\u001b[0m\u001b[0mself\u001b[0m\u001b[0;34m.\u001b[0m\u001b[0mblknos\u001b[0m\u001b[0;34m[\u001b[0m\u001b[0mloc\u001b[0m\u001b[0;34m:\u001b[0m\u001b[0;34m]\u001b[0m\u001b[0;34m)\u001b[0m\u001b[0;34m:\u001b[0m\u001b[0;34m\u001b[0m\u001b[0;34m\u001b[0m\u001b[0m\n",
      "\u001b[0;32m/opt/tljh/user/lib/python3.9/site-packages/pandas/core/internals/blocks.py\u001b[0m in \u001b[0;36mnew_block\u001b[0;34m(values, placement, ndim, klass)\u001b[0m\n\u001b[1;32m   1935\u001b[0m \u001b[0;34m\u001b[0m\u001b[0m\n\u001b[1;32m   1936\u001b[0m     \u001b[0mvalues\u001b[0m\u001b[0;34m,\u001b[0m \u001b[0m_\u001b[0m \u001b[0;34m=\u001b[0m \u001b[0mextract_pandas_array\u001b[0m\u001b[0;34m(\u001b[0m\u001b[0mvalues\u001b[0m\u001b[0;34m,\u001b[0m \u001b[0;32mNone\u001b[0m\u001b[0;34m,\u001b[0m \u001b[0mndim\u001b[0m\u001b[0;34m)\u001b[0m\u001b[0;34m\u001b[0m\u001b[0;34m\u001b[0m\u001b[0m\n\u001b[0;32m-> 1937\u001b[0;31m     \u001b[0mcheck_ndim\u001b[0m\u001b[0;34m(\u001b[0m\u001b[0mvalues\u001b[0m\u001b[0;34m,\u001b[0m \u001b[0mplacement\u001b[0m\u001b[0;34m,\u001b[0m \u001b[0mndim\u001b[0m\u001b[0;34m)\u001b[0m\u001b[0;34m\u001b[0m\u001b[0;34m\u001b[0m\u001b[0m\n\u001b[0m\u001b[1;32m   1938\u001b[0m \u001b[0;34m\u001b[0m\u001b[0m\n\u001b[1;32m   1939\u001b[0m     \u001b[0;32mif\u001b[0m \u001b[0mklass\u001b[0m \u001b[0;32mis\u001b[0m \u001b[0;32mNone\u001b[0m\u001b[0;34m:\u001b[0m\u001b[0;34m\u001b[0m\u001b[0;34m\u001b[0m\u001b[0m\n",
      "\u001b[0;32m/opt/tljh/user/lib/python3.9/site-packages/pandas/core/internals/blocks.py\u001b[0m in \u001b[0;36mcheck_ndim\u001b[0;34m(values, placement, ndim)\u001b[0m\n\u001b[1;32m   1977\u001b[0m             )\n\u001b[1;32m   1978\u001b[0m         \u001b[0;32mif\u001b[0m \u001b[0mlen\u001b[0m\u001b[0;34m(\u001b[0m\u001b[0mplacement\u001b[0m\u001b[0;34m)\u001b[0m \u001b[0;34m!=\u001b[0m \u001b[0mlen\u001b[0m\u001b[0;34m(\u001b[0m\u001b[0mvalues\u001b[0m\u001b[0;34m)\u001b[0m\u001b[0;34m:\u001b[0m\u001b[0;34m\u001b[0m\u001b[0;34m\u001b[0m\u001b[0m\n\u001b[0;32m-> 1979\u001b[0;31m             raise ValueError(\n\u001b[0m\u001b[1;32m   1980\u001b[0m                 \u001b[0;34mf\"Wrong number of items passed {len(values)}, \"\u001b[0m\u001b[0;34m\u001b[0m\u001b[0;34m\u001b[0m\u001b[0m\n\u001b[1;32m   1981\u001b[0m                 \u001b[0;34mf\"placement implies {len(placement)}\"\u001b[0m\u001b[0;34m\u001b[0m\u001b[0;34m\u001b[0m\u001b[0m\n",
      "\u001b[0;31mValueError\u001b[0m: Wrong number of items passed 10, placement implies 1"
     ]
    }
   ],
   "source": [
    "# Column 10 - Annualized Total Returns (Using trailing 10-years)\n",
    "output['Ann 10yr Return'] = output['10yr Return'] ** (1 / np.sqrt(5)) "
   ]
  },
  {
   "cell_type": "code",
   "execution_count": null,
   "id": "634b08af-1b80-47cb-be83-9b6520976e2a",
   "metadata": {},
   "outputs": [],
   "source": [
    "output"
   ]
  },
  {
   "cell_type": "code",
   "execution_count": null,
   "id": "aa3dd0b7-ea66-4ee5-9de6-5ec413333dfb",
   "metadata": {},
   "outputs": [],
   "source": [
    "# Part 2: Create a table showing Portfolio Risk against the three EFTs"
   ]
  },
  {
   "cell_type": "code",
   "execution_count": null,
   "id": "f01550c4-ae0f-41f3-8be8-b4e120d24986",
   "metadata": {},
   "outputs": [],
   "source": [
    "# Calculating 'ewp'\n",
    "data['ewp'] = data[tickers].mean(axis=1)\n",
    "log_returns['ewp'] = log_returns[tickers].mean(axis=1)"
   ]
  },
  {
   "cell_type": "code",
   "execution_count": null,
   "id": "dce7bcd3-1388-4a9c-9a84-bcd6f2ce2bc5",
   "metadata": {},
   "outputs": [],
   "source": [
    "# Calculating log_returns\n",
    "log_returns[etf + ['ewp']]"
   ]
  },
  {
   "cell_type": "code",
   "execution_count": null,
   "id": "1062ba3b-e712-481c-9878-2764bbb0b936",
   "metadata": {},
   "outputs": [],
   "source": [
    "# Column 1- ETF Ticker\n",
    "output_2 = pd.DataFrame(index=etf + ['ewp'])"
   ]
  },
  {
   "cell_type": "code",
   "execution_count": null,
   "id": "e044d543-8e6e-429d-b9db-f393bb4148c2",
   "metadata": {},
   "outputs": [],
   "source": [
    "# Column 2 & 3 - Correlation and Covariance of Portfolio against ETF \n",
    "output_2['Correlation'] = log_returns.corr()['ewp']\n",
    "output_2['Cov_2'] = (log_returns * 100).cov()['ewp']"
   ]
  },
  {
   "cell_type": "code",
   "execution_count": null,
   "id": "c2397810-cc68-49cf-be67-de4ba1b27211",
   "metadata": {
    "tags": []
   },
   "outputs": [],
   "source": [
    "# Column 4 - Tracking Errors (using trailing 10-years)\n",
    "output_2['tracking_error'] = 0\n",
    "for bench in etf:\n",
    "    output_2.loc[bench, 'Tracking Error'] = (log_returns[bench] - log_returns['ewp']).std() *100"
   ]
  },
  {
   "cell_type": "code",
   "execution_count": null,
   "id": "7de7c263-adf5-4424-bbbc-ba0058777667",
   "metadata": {},
   "outputs": [],
   "source": [
    "# Column 5 - Sharpe Ratio (using current risk-free rate)\n",
    "(returns - (0.02)) / returns.std()"
   ]
  },
  {
   "cell_type": "code",
   "execution_count": null,
   "id": "375db0c1-cd2c-4cb5-a5db-f3c1f8e42421",
   "metadata": {},
   "outputs": [],
   "source": [
    "# Column 6 - Annualized Volatility (252 days) Spread (portfolio volatility - ETF volatility)\n",
    "output_2['volatility spread'] = log_returns[etf + ['ewp']][-252:].std() ** (1/252)"
   ]
  },
  {
   "cell_type": "code",
   "execution_count": null,
   "id": "fbe8617b-2197-4300-b16b-346e9e5f6e53",
   "metadata": {},
   "outputs": [],
   "source": [
    "output_2"
   ]
  },
  {
   "cell_type": "code",
   "execution_count": null,
   "id": "cd11ce9f-7c44-450d-a529-302ef73e54e8",
   "metadata": {},
   "outputs": [],
   "source": [
    "# Part 3: Create a correlation matrix showing the correlations between the equal-weighted portfolio, 3 ETFs, and your 7 stocks"
   ]
  },
  {
   "cell_type": "code",
   "execution_count": null,
   "id": "b9e2474c-213e-40cd-8974-6ae7f3faa068",
   "metadata": {},
   "outputs": [],
   "source": [
    "corr_data = log_returns[etf + tickers + ['ewp']][1:].corr(method= 'pearson')"
   ]
  },
  {
   "cell_type": "code",
   "execution_count": null,
   "id": "2165a8b6-d9d7-4250-92f8-f7d339caa7cb",
   "metadata": {},
   "outputs": [],
   "source": [
    "corr_data"
   ]
  },
  {
   "cell_type": "code",
   "execution_count": null,
   "id": "fdcf51b0-d06f-49c0-9882-e816b36fec41",
   "metadata": {},
   "outputs": [],
   "source": [
    "import seaborn as sns\n",
    "sns.heatmap(corr_data, cmap= \"YlGnBu\")"
   ]
  },
  {
   "cell_type": "code",
   "execution_count": null,
   "id": "bd429b9e-cc92-4c17-a58d-e74b2a043677",
   "metadata": {
    "tags": []
   },
   "outputs": [],
   "source": [
    "# Citation\n",
    "- Credit given to Professor John Droescher\n",
    "- https://www.learnpythonwithrune.org/calculate-the-market-sp-500-beta-with-python-for-any-stock/#:~:text=Step%203%3A%20Calculate%20the%20BETA \n",
    "- Hilpisch, Y. (2015). Python for finance. O'Reilly Media. "
   ]
  }
 ],
 "metadata": {
  "kernelspec": {
   "display_name": "Python 3 (ipykernel)",
   "language": "python",
   "name": "python3"
  },
  "language_info": {
   "codemirror_mode": {
    "name": "ipython",
    "version": 3
   },
   "file_extension": ".py",
   "mimetype": "text/x-python",
   "name": "python",
   "nbconvert_exporter": "python",
   "pygments_lexer": "ipython3",
   "version": "3.9.7"
  }
 },
 "nbformat": 4,
 "nbformat_minor": 5
}
